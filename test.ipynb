{
 "cells": [
  {
   "cell_type": "code",
   "execution_count": null,
   "metadata": {},
   "outputs": [],
   "source": [
    "import yaml\n",
    "import duckdb\n",
    "from pathlib import Path\n",
    "\n",
    "def run_job(job):\n",
    "    # Ensure destination folder exists\n",
    "    dest_path = Path(job[\"destination\"])\n",
    "    dest_path.parent.mkdir(parents=True, exist_ok=True)\n",
    "\n",
    "    # Connect to DuckDB and load CSV directly\n",
    "    con = duckdb.connect(dest_path)\n",
    "    con.execute(f\"\"\"\n",
    "        CREATE OR REPLACE TABLE {job['table']} AS\n",
    "        SELECT * FROM read_csv_auto('{job[\"source_url\"]}')\n",
    "    \"\"\")\n",
    "\n",
    "    print(f\"✔ Saved table '{job['table']}' to: {dest_path}\")\n",
    "\n",
    "def main():\n",
    "    with open(\"fetch_jobs.yaml\", \"r\") as f:\n",
    "        config = yaml.safe_load(f)\n",
    "    for job in config[\"jobs\"]:\n",
    "        run_job(job)\n",
    "\n",
    "if __name__ == \"__main__\":\n",
    "    main()"
   ]
  }
 ],
 "metadata": {
  "kernelspec": {
   "display_name": ".venv",
   "language": "python",
   "name": "python3"
  },
  "language_info": {
   "codemirror_mode": {
    "name": "ipython",
    "version": 3
   },
   "file_extension": ".py",
   "mimetype": "text/x-python",
   "name": "python",
   "nbconvert_exporter": "python",
   "pygments_lexer": "ipython3",
   "version": "3.11.9"
  }
 },
 "nbformat": 4,
 "nbformat_minor": 2
}
